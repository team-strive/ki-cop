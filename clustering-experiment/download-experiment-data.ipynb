{
 "cells": [
  {
   "cell_type": "markdown",
   "id": "c141dcb2-45f8-47c3-be1f-fa569c0e644f",
   "metadata": {},
   "source": [
    "Uses https://python.langchain.com/docs/integrations/document_loaders/wikipedia/ to download some Wikipedia pages."
   ]
  },
  {
   "cell_type": "code",
   "execution_count": null,
   "id": "9fa50471-9455-446d-8b9d-424a58e9c286",
   "metadata": {},
   "outputs": [],
   "source": [
    "from tqdm.notebook import tqdm\n",
    "from langchain_community.document_loaders import WikipediaLoader\n",
    "\n",
    "QUERIES = [\n",
    "    \"Philosophy\",\n",
    "    \"Science\",\n",
    "    \"Artificial Intelligence\",\n",
    "    \"Large Language Models\",\n",
    "    \"Computer Science\",\n",
    "    \"OpenAI\",\n",
    "    \"Sokrates\",\n",
    "    \"Quentin Tarantino\",\n",
    "    \"Guitar\",\n",
    "    \"Music\",\n",
    "    \"Podcast\",\n",
    "    \"Python\"\n",
    "]"
   ]
  },
  {
   "cell_type": "code",
   "execution_count": null,
   "id": "436b4678-aa4b-46da-a8d8-0a02af98db70",
   "metadata": {},
   "outputs": [],
   "source": [
    "docs = []\n",
    "for query in tqdm(QUERIES):\n",
    "    entries = WikipediaLoader(query=query).load()\n",
    "    if len(entries) < 1:\n",
    "        print(f\"{query} skipped: no content\")\n",
    "        continue\n",
    "    docs.extend(entries)"
   ]
  },
  {
   "cell_type": "code",
   "execution_count": null,
   "id": "316a9a4d-fff1-4116-97b8-47977e1da748",
   "metadata": {},
   "outputs": [],
   "source": [
    "import pickle\n",
    "with open(\"docs.pickle\", \"wb\") as file:\n",
    "    pickle.dump(docs, file)"
   ]
  }
 ],
 "metadata": {
  "kernelspec": {
   "display_name": "Python 3 (ipykernel)",
   "language": "python",
   "name": "python3"
  },
  "language_info": {
   "codemirror_mode": {
    "name": "ipython",
    "version": 3
   },
   "file_extension": ".py",
   "mimetype": "text/x-python",
   "name": "python",
   "nbconvert_exporter": "python",
   "pygments_lexer": "ipython3",
   "version": "3.12.3"
  }
 },
 "nbformat": 4,
 "nbformat_minor": 5
}
