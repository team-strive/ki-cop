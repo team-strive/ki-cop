{
 "cells": [
  {
   "cell_type": "code",
   "execution_count": null,
   "id": "6cc77a07-261e-439d-ba7e-ef52ce43c9bc",
   "metadata": {},
   "outputs": [],
   "source": [
    "import pickle\n",
    "from tqdm.notebook import tqdm\n",
    "from sklearn.cluster import DBSCAN\n",
    "from sklearn.cluster import KMeans\n",
    "from sklearn.cluster import MeanShift, estimate_bandwidth\n",
    "import chromadb\n",
    "import numpy as np"
   ]
  },
  {
   "cell_type": "code",
   "execution_count": null,
   "id": "467b9b0f-1cd4-44f8-90fa-ded645b0c29b",
   "metadata": {},
   "outputs": [],
   "source": [
    "#SPLITS_FILE = \"splits-1000-200.pickle\"\n",
    "#VECS_FILE = \"vecs-1000-200.pickle\"\n",
    "SPLITS_FILE = \"reddit-splits-1000-200.pickle\"\n",
    "VECS_FILE = \"reddit-vecs-1000-200.pickle\"\n",
    "\n",
    "with open(SPLITS_FILE, \"rb\") as file:\n",
    "    splits = pickle.load(file)\n",
    "with open(VECS_FILE, \"rb\") as file:\n",
    "    vecs = pickle.load(file)"
   ]
  },
  {
   "cell_type": "code",
   "execution_count": null,
   "id": "24cd6663-e047-4e3a-bc7c-53ff7f91ff4d",
   "metadata": {},
   "outputs": [],
   "source": [
    "#clusters = DBSCAN(eps=.5, min_samples=3).fit(vecs)\n",
    "\n",
    "#clusters = KMeans(n_clusters=10).fit(vecs)\n",
    "\n",
    "bandwidth = estimate_bandwidth(vecs, quantile=0.2, n_samples=len(vecs))\n",
    "#clusters = MeanShift(bandwidth=bandwidth, n_jobs=-1, cluster_all=False).fit(vecs)\n",
    "clusters = MeanShift(bandwidth=bandwidth*1.1, n_jobs=-1, cluster_all=False).fit(vecs)\n",
    "\n",
    "labels = clusters.labels_\n",
    "\n",
    "# Number of clusters in labels, ignoring noise if present.\n",
    "n_clusters_ = len(set(labels)) - (1 if -1 in labels else 0)\n",
    "n_noise_ = list(labels).count(-1)\n",
    "\n",
    "print(\"Estimated number of clusters: %d\" % n_clusters_)\n",
    "print(\"Estimated number of noise points: %d\" % n_noise_)\n",
    "print(f\"Labels: {set(labels)}\")"
   ]
  },
  {
   "cell_type": "code",
   "execution_count": null,
   "id": "8fe513a9-eca3-4710-9f15-2362f9b318c6",
   "metadata": {},
   "outputs": [],
   "source": [
    "# get back texts for labeled vecs stored in vector store\n",
    "chroma_client = chromadb.EphemeralClient()\n",
    "collection = chroma_client.create_collection(name=\"docs\")\n",
    "ids=[str(i) for i in range(len(splits))]\n",
    "collection.add(\n",
    "    documents=[d.page_content for d in splits],\n",
    "    embeddings=vecs,\n",
    "    # trouble with some metadata types\n",
    "    #metadatas=[d.metadata for d in splits],\n",
    "    ids=ids\n",
    ")\n",
    "print(f\"{collection.count()} docs added to Chroma\")"
   ]
  },
  {
   "cell_type": "code",
   "execution_count": null,
   "id": "4eb3aa3c-a702-4611-845c-5549f1738f0d",
   "metadata": {},
   "outputs": [],
   "source": [
    "unique_labels = set([l for l in labels if l >= 0])\n",
    "# get representative vec for all labels (centroid)\n",
    "representatives = []\n",
    "for label in unique_labels:\n",
    "    vecs_with_label = np.array([v for ix, v in zip(range(len(vecs)), vecs) if labels[ix] == label])\n",
    "    centroid = np.mean(vecs_with_label, axis=0).tolist()\n",
    "    representatives.append(centroid)"
   ]
  },
  {
   "cell_type": "code",
   "execution_count": null,
   "id": "c53c5bf2-d3d0-474b-bad2-0f53198849cf",
   "metadata": {},
   "outputs": [],
   "source": [
    "representative_docs = collection.query(\n",
    "    query_embeddings=representatives,\n",
    "    n_results=1,\n",
    "    include=[\"documents\"]\n",
    ")"
   ]
  },
  {
   "cell_type": "code",
   "execution_count": null,
   "id": "e0fa861f-658b-48f0-a4a8-dd295794f2d8",
   "metadata": {},
   "outputs": [],
   "source": [
    "# ask LLM for summary/tag\n",
    "from langchain_community.llms import Ollama\n",
    "from langchain_core.prompts import ChatPromptTemplate\n",
    "from langchain_core.output_parsers import StrOutputParser\n",
    "\n",
    "llm = Ollama(model=\"llama3\")\n",
    "prompt = ChatPromptTemplate.from_messages([\n",
    "    (\"system\", \"Summarize in maximum three words. No other output. No punctuation.\"),\n",
    "    (\"user\", \"{input}\")\n",
    "])\n",
    "output_parser = StrOutputParser()\n",
    "chain = prompt | llm | output_parser\n",
    "\n",
    "tags = [chain.invoke({ \"input\": docs[0] }) for docs in tqdm(representative_docs[\"documents\"])]\n",
    "print(tags)"
   ]
  },
  {
   "cell_type": "code",
   "execution_count": null,
   "id": "77f42bc0-062a-4385-9d55-e3aa99988095",
   "metadata": {},
   "outputs": [],
   "source": [
    "# create graph from tags and vecs\n",
    "from scipy.sparse.csgraph import minimum_spanning_tree\n",
    "\n",
    "def similarities(vec, vecs):\n",
    "    return np.array([np.dot(vec, other_vec) / (np.linalg.norm(vec) * np.linalg.norm(other_vec)) for other_vec in vecs])\n",
    "\n",
    "adjacency_matrix = np.array([1 - similarities(vec, representatives) for vec in representatives])\n",
    "# scale to 1\n",
    "adjacency_matrix /= np.max(adjacency_matrix)\n",
    "\n",
    "mst = minimum_spanning_tree(adjacency_matrix)\n",
    "edges = (mst.toarray() > 0).astype(int)\n",
    "#print(edges)\n",
    "\n",
    "import networkx as nx\n",
    "import matplotlib.pyplot as plt\n",
    "from adjustText import adjust_text\n",
    "\n",
    "G = nx.from_numpy_array(edges)\n",
    "nodes = { label: tag for label, tag in zip(unique_labels, tags) }\n",
    "\n",
    "# Draw the graph\n",
    "plt.figure(figsize=(12, 9))\n",
    "pos = nx.spring_layout(G)  # Positioning of nodes\n",
    "# Draw nodes and edges\n",
    "nx.draw_networkx_nodes(G, pos, node_color='lightblue', node_size=250)\n",
    "nx.draw_networkx_edges(G, pos, edge_color='gray')\n",
    "\n",
    "# Draw labels\n",
    "#nx.draw_networkx_labels(G, pos, labels=nodes, font_size=15)\n",
    "# Draw labels\n",
    "texts = []\n",
    "for node, (x, y) in pos.items():\n",
    "    texts.append(plt.text(x, y, nodes[node], fontsize=8, ha='center', va='center'))\n",
    "\n",
    "# Adjust text to avoid overlap\n",
    "adjust_text(texts)\n",
    "\n",
    "# Set the title\n",
    "plt.title(\"Topic network\")\n",
    "\n",
    "plt.show()"
   ]
  }
 ],
 "metadata": {
  "kernelspec": {
   "display_name": "Python 3 (ipykernel)",
   "language": "python",
   "name": "python3"
  },
  "language_info": {
   "codemirror_mode": {
    "name": "ipython",
    "version": 3
   },
   "file_extension": ".py",
   "mimetype": "text/x-python",
   "name": "python",
   "nbconvert_exporter": "python",
   "pygments_lexer": "ipython3",
   "version": "3.12.3"
  }
 },
 "nbformat": 4,
 "nbformat_minor": 5
}
