{
 "cells": [
  {
   "cell_type": "code",
   "execution_count": null,
   "id": "f32c7a48-e58c-4581-828c-19f69ef166d5",
   "metadata": {},
   "outputs": [],
   "source": [
    "from tqdm.notebook import tqdm\n",
    "from langchain_community.document_loaders import RedditPostsLoader\n",
    "from dotenv import load_dotenv\n",
    "load_dotenv()\n",
    "from os import getenv\n",
    "import pickle"
   ]
  },
  {
   "cell_type": "code",
   "execution_count": null,
   "id": "799bebb1-56d3-4724-8250-fce4c4797d12",
   "metadata": {},
   "outputs": [],
   "source": [
    "loader = RedditPostsLoader(\n",
    "    client_id=getenv(\"REDDIT_CLIENT_ID\"),\n",
    "    client_secret=getenv(\"REDDIT_CLIENT_SECRET\"),\n",
    "    user_agent=\"extractor\",\n",
    "    categories=[\"new\", \"hot\"],  #\"controversial\", \"hot\", \"new\", \"rising\", \"top\"\n",
    "    mode=\"subreddit\",\n",
    "    search_queries=[\n",
    "        \"MachineLearning\",\n",
    "    ],  # List of subreddits to load posts from\n",
    "    number_posts=1000,  # Default value is 10\n",
    ")\n",
    "docs = loader.load()"
   ]
  },
  {
   "cell_type": "code",
   "execution_count": null,
   "id": "aa37d3ad-2dfa-453f-b058-12a2364d53ac",
   "metadata": {},
   "outputs": [],
   "source": [
    "# filter docs with no page content\n",
    "docs = [d for d in docs if d.page_content]\n",
    "print(f\"{len(docs)} documents\")\n",
    "\n",
    "with open(\"reddit-docs.pickle\", \"wb\") as file:\n",
    "    pickle.dump(docs, file)\n",
    "    print(\"Wrote docs to reddit-docs.pickle\")"
   ]
  }
 ],
 "metadata": {
  "kernelspec": {
   "display_name": "Python 3 (ipykernel)",
   "language": "python",
   "name": "python3"
  },
  "language_info": {
   "codemirror_mode": {
    "name": "ipython",
    "version": 3
   },
   "file_extension": ".py",
   "mimetype": "text/x-python",
   "name": "python",
   "nbconvert_exporter": "python",
   "pygments_lexer": "ipython3",
   "version": "3.12.3"
  }
 },
 "nbformat": 4,
 "nbformat_minor": 5
}
