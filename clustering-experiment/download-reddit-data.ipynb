{
 "cells": [
  {
   "cell_type": "markdown",
   "id": "fba5f7e8-3a27-43c3-a357-c037992a88fb",
   "metadata": {},
   "source": [
    "# Download Reddit Data\n",
    "Downloads posts from specified subreddits.\n",
    "\n",
    "The idea was to have some initial experiment data with *social media* flavor and get things started."
   ]
  },
  {
   "cell_type": "code",
   "execution_count": null,
   "id": "f32c7a48-e58c-4581-828c-19f69ef166d5",
   "metadata": {},
   "outputs": [],
   "source": [
    "from tqdm.notebook import tqdm\n",
    "from langchain_community.document_loaders import RedditPostsLoader\n",
    "from dotenv import load_dotenv\n",
    "load_dotenv()\n",
    "from os import getenv\n",
    "import pickle"
   ]
  },
  {
   "cell_type": "markdown",
   "id": "cc626844-1e1b-4821-b060-1fcefd0d9350",
   "metadata": {},
   "source": [
    "## Setup\n",
    "Define what exactly to download:\n",
    "* `CATEGORIES`: subset of `[\"controversial\", \"hot\", \"new\", \"rising\", \"top\"]`\n",
    "* `SEARCH_QUERIES`: list of subreddits\n",
    "* `NUM_POSTS`: number of posts to download\n",
    "\n",
    "To use the *Langchain commmunity* `RedditPostsLoader`, a *reddit* client ID and secret have to be provided as env variables `REDDIT_CLIENT_ID` and `REDDIT_CLIENT_SECRET`. This can for example be done using a `.env` file."
   ]
  },
  {
   "cell_type": "code",
   "execution_count": null,
   "id": "a5e6a010-dd55-4a7b-bb06-aec857877228",
   "metadata": {},
   "outputs": [],
   "source": [
    "CATEGORIES = [\"new\", \"hot\"] # list of any of [\"controversial\", \"hot\", \"new\", \"rising\", \"top\"]\n",
    "SEARCH_QUERIES = [\"MachineLearning\"] # list of subreddits\n",
    "NUM_POSTS = 1000 # number of posts to download; seems to be per category x search_query"
   ]
  },
  {
   "cell_type": "markdown",
   "id": "477e7b35-6ea4-4a56-9613-cae3063bdf1c",
   "metadata": {},
   "source": [
    "## Load"
   ]
  },
  {
   "cell_type": "code",
   "execution_count": null,
   "id": "799bebb1-56d3-4724-8250-fce4c4797d12",
   "metadata": {},
   "outputs": [],
   "source": [
    "loader = RedditPostsLoader(\n",
    "    client_id=getenv(\"REDDIT_CLIENT_ID\"),\n",
    "    client_secret=getenv(\"REDDIT_CLIENT_SECRET\"),\n",
    "    user_agent=\"extractor\",\n",
    "    categories=CATEGORIES,\n",
    "    mode=\"subreddit\",\n",
    "    search_queries=SEARCH_QUERIES, \n",
    "    number_posts=NUM_POSTS\n",
    ")\n",
    "docs = loader.load()"
   ]
  },
  {
   "cell_type": "markdown",
   "id": "aa34d9ff-3902-450b-a488-449fd8b9f01b",
   "metadata": {},
   "source": [
    "## Save\n",
    "Documents will be *pickled* to `reddit-docs.pickle` in the following cell to allow re-use in other notebooks. Posts without original text content will be skipped."
   ]
  },
  {
   "cell_type": "code",
   "execution_count": null,
   "id": "aa37d3ad-2dfa-453f-b058-12a2364d53ac",
   "metadata": {},
   "outputs": [],
   "source": [
    "# filter docs with no page content\n",
    "docs = [d for d in docs if d.page_content]\n",
    "print(f\"{len(docs)} documents\")\n",
    "\n",
    "with open(\"reddit-docs.pickle\", \"wb\") as file:\n",
    "    pickle.dump(docs, file)\n",
    "    print(\"Wrote docs to reddit-docs.pickle\")"
   ]
  }
 ],
 "metadata": {
  "kernelspec": {
   "display_name": "Python 3 (ipykernel)",
   "language": "python",
   "name": "python3"
  },
  "language_info": {
   "codemirror_mode": {
    "name": "ipython",
    "version": 3
   },
   "file_extension": ".py",
   "mimetype": "text/x-python",
   "name": "python",
   "nbconvert_exporter": "python",
   "pygments_lexer": "ipython3",
   "version": "3.12.3"
  }
 },
 "nbformat": 4,
 "nbformat_minor": 5
}
