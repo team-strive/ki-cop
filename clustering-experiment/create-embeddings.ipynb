{
 "cells": [
  {
   "cell_type": "code",
   "execution_count": null,
   "id": "7f42c9b9-8b20-4c19-a4fa-f1a87f0ca0e2",
   "metadata": {},
   "outputs": [],
   "source": [
    "import pickle\n",
    "from tqdm.notebook import tqdm\n",
    "from langchain_text_splitters import RecursiveCharacterTextSplitter\n",
    "from langchain_community.embeddings import OllamaEmbeddings\n",
    "\n",
    "DOCS_PICKLE_FILE = \"reddit-docs.pickle\"\n",
    "SPLITS_PICKLE_PREFIX = \"reddit-splits\"\n",
    "VECS_PICKLE_PREFIX = \"reddit-vecs\""
   ]
  },
  {
   "cell_type": "markdown",
   "id": "421c7762-53e8-4802-8ad8-ad297088320b",
   "metadata": {},
   "source": [
    "Load previously downloaded docs."
   ]
  },
  {
   "cell_type": "code",
   "execution_count": null,
   "id": "06b2bad6-6dc4-4d40-b69c-a3315909fd82",
   "metadata": {},
   "outputs": [],
   "source": [
    "with open(DOCS_PICKLE_FILE, \"rb\") as file:\n",
    "    docs = pickle.load(file)\n",
    "print(f\"{len(docs)} documents\")"
   ]
  },
  {
   "cell_type": "markdown",
   "id": "8f05888b-86b6-4948-914d-9f6522c43a9f",
   "metadata": {},
   "source": [
    "Split all docs to make them fit as context (or input) of a local llm."
   ]
  },
  {
   "cell_type": "code",
   "execution_count": null,
   "id": "2ddeb7a9-bc71-4054-a3cd-5da3591e61aa",
   "metadata": {},
   "outputs": [],
   "source": [
    "CHUNK_SIZE = 1000\n",
    "CHUNK_OVERLAP = 200\n",
    "text_splitter = RecursiveCharacterTextSplitter(\n",
    "    chunk_size=CHUNK_SIZE,\n",
    "    chunk_overlap=CHUNK_OVERLAP,\n",
    "    add_start_index=True\n",
    ")\n",
    "splits = text_splitter.split_documents(docs)\n",
    "print(f\"{len(splits)} splits\")\n",
    "\n",
    "splits_filename = f\"{SPLITS_PICKLE_PREFIX}-{CHUNK_SIZE}-{CHUNK_OVERLAP}.pickle\"\n",
    "with open(splits_filename, \"wb\") as file:\n",
    "    pickle.dump(splits, file)\n",
    "    print(f\"Wrote splits to {splits_filename}\")"
   ]
  },
  {
   "cell_type": "code",
   "execution_count": null,
   "id": "f2e3b053-3597-47c8-8ebc-bf88834b1449",
   "metadata": {},
   "outputs": [],
   "source": [
    "embeddings = OllamaEmbeddings(model=\"llama3\")\n",
    "vecs = []\n",
    "for split in tqdm(splits):\n",
    "    vecs.append(embeddings.embed_documents([split])[0])\n",
    "print(f\"embedding space dim: {len(vecs[0])}\")\n",
    "\n",
    "vecs_filename = f\"{VECS_PICKLE_PREFIX}-{CHUNK_SIZE}-{CHUNK_OVERLAP}.pickle\"\n",
    "with open(vecs_filename, \"wb\") as file:\n",
    "    pickle.dump(vecs, file)\n",
    "    print(f\"Wrote embedding vecs for splits to {vecs_filename}\")"
   ]
  }
 ],
 "metadata": {
  "kernelspec": {
   "display_name": "Python 3 (ipykernel)",
   "language": "python",
   "name": "python3"
  },
  "language_info": {
   "codemirror_mode": {
    "name": "ipython",
    "version": 3
   },
   "file_extension": ".py",
   "mimetype": "text/x-python",
   "name": "python",
   "nbconvert_exporter": "python",
   "pygments_lexer": "ipython3",
   "version": "3.12.3"
  }
 },
 "nbformat": 4,
 "nbformat_minor": 5
}
